{
 "cells": [
  {
   "cell_type": "code",
   "execution_count": null,
   "id": "9474792c-0286-4cea-b1e5-72464fcd8a09",
   "metadata": {},
   "outputs": [],
   "source": [
    "import os\n",
    "import torch\n",
    "import gpytorch\n",
    "from torch import nn\n",
    "import torch.nn.functional as F\n",
    "import pandas as pd\n",
    "import numpy as np\n",
    "from DKL_for_training_and_prediction import ResidualBlock, ResNet1D, ResNetGP, \n",
    "from sklearn.model_selection import train_test_split\n",
    "from sklearn.preprocessing import StandardScaler\n",
    "from torch.utils.data import DataLoader, TensorDataset, Subset\n",
    "from sklearn.metrics import accuracy_score, roc_auc_score, f1_score,recall_score,precision_score\n",
    "import torch.optim as optim\n",
    "from sklearn.model_selection import KFold"
   ]
  },
  {
   "cell_type": "code",
   "execution_count": null,
   "id": "ca0c079a-acb4-4a13-8b0a-cf8ba7ca5bc3",
   "metadata": {},
   "outputs": [],
   "source": [
    "os.chdir(\"path to save the analysis results\")"
   ]
  },
  {
   "cell_type": "code",
   "execution_count": null,
   "id": "4e8ba1c0-8325-4002-ae29-dfeb19fb9621",
   "metadata": {},
   "outputs": [],
   "source": [
    "# Assuming ResNet1D is properly defined\n",
    "feature_extractor = ResNet1D()\n",
    "model = ResNetGP(feature_extractor)"
   ]
  },
  {
   "cell_type": "code",
   "execution_count": null,
   "id": "80c5f733-2d38-43c4-aa54-3ed94a7d08de",
   "metadata": {},
   "outputs": [],
   "source": [
    "def shuffle_features(X):\n",
    "    \"\"\"Randomly shuffles the order of features in the dataset.\"\"\"\n",
    "    indices = np.arange(X.shape[1])\n",
    "    np.random.shuffle(indices)\n",
    "    return X[:, indices]\n",
    "\n",
    "def train_and_evaluate(model, train_loader, val_loader, likelihood, optimizer, epochs=20):\n",
    "    # Define the marginal log likelihood for Gaussian processes\n",
    "    model_likelihood = PredictiveLogLikelihood(likelihood, model.gp, num_data=len(train_loader.dataset))\n",
    "\n",
    "    # Train the model\n",
    "    model.train()\n",
    "    likelihood.train()\n",
    "    for _ in range(epochs):\n",
    "        for batch_x, batch_y in train_loader:\n",
    "            optimizer.zero_grad()\n",
    "            output = model(batch_x)\n",
    "            loss = -model_likelihood(output, batch_y)  # Compute the loss\n",
    "            loss.backward()\n",
    "            optimizer.step()\n",
    "\n",
    "    # Evaluate the model\n",
    "    model.eval()\n",
    "    likelihood.eval()\n",
    "    true_labels = []\n",
    "    pred_probs = []\n",
    "    predictions = []\n",
    "    with torch.no_grad():\n",
    "        for x, y in val_loader:\n",
    "            preds = model(x)\n",
    "            prob_pos = likelihood(preds).mean.detach()\n",
    "            predictions.extend(prob_pos.numpy())\n",
    "            true_labels.extend(y.numpy())\n",
    "            pred_probs.extend(prob_pos.numpy())\n",
    "\n",
    "    accuracy = accuracy_score(true_labels, (np.array(pred_probs) >= 0.7).astype(int))\n",
    "    auc = roc_auc_score(true_labels, pred_probs)\n",
    "    f1 = f1_score(true_labels, (np.array(pred_probs) >= 0.7).astype(int))\n",
    "    recall = recall_score(true_labels, (np.array(pred_probs)  >= 0.7).astype(int))\n",
    "    precision = precision_score(true_labels, (np.array(pred_probs)  >= 0.7).astype(int))\n",
    "    return accuracy, auc, f1, recall, precision, predictions"
   ]
  },
  {
   "cell_type": "code",
   "execution_count": null,
   "id": "b9800dbe-eb93-41e1-85d6-ed32a915dfa7",
   "metadata": {},
   "outputs": [],
   "source": [
    "def run_experiments(X, y, n_experiments=10):\n",
    "    results_metrics = []\n",
    "    results_predictions = []\n",
    "\n",
    "    # Split data for training and validation\n",
    "    X_train, X_test, y_train, y_test = train_test_split(X, y, test_size=0.2, random_state=42)\n",
    "    train_dataset = TensorDataset(X_train, y_train)\n",
    "    test_dataset = TensorDataset(X_test, y_test)\n",
    "    train_loader = DataLoader(train_dataset, batch_size=128, shuffle=True)\n",
    "    test_loader = DataLoader(test_dataset, batch_size=128, shuffle=False)\n",
    "\n",
    "    for _ in range(n_experiments):\n",
    "        # Shuffling features and ensuring the data remains a tensor\n",
    "        X_shuffled = torch.tensor(shuffle_features(X_train.numpy()), dtype=torch.float32)\n",
    "        train_dataset = TensorDataset(X_shuffled, y_train)\n",
    "        train_loader = DataLoader(train_dataset, batch_size=128, shuffle=True)\n",
    "\n",
    "        # Initialize model and likelihood\n",
    "        feature_extractor = ResNet1D()\n",
    "        model = ResNetGP(feature_extractor)\n",
    "        likelihood = GaussianLikelihood()\n",
    "        optimizer = torch.optim.Adam([\n",
    "            {'params': model.parameters()},\n",
    "            {'params': likelihood.parameters()}\n",
    "        ], lr=0.001,weight_decay=1e-4)\n",
    "\n",
    "        # Train and predict\n",
    "        accuracy, auc, f1, recall, precision, predictions = train_and_evaluate(model, train_loader, test_loader, likelihood, optimizer)\n",
    "        results_metrics.append((accuracy, auc, f1, recall, precision))\n",
    "        results_predictions.append(predictions)\n",
    "\n",
    "    return results_predictions, results_metrics"
   ]
  },
  {
   "cell_type": "code",
   "execution_count": null,
   "id": "1ac8b0d5-8e7a-46d0-ab49-2ab38ef0639b",
   "metadata": {},
   "outputs": [],
   "source": []
  }
 ],
 "metadata": {
  "kernelspec": {
   "display_name": "Python 3 (ipykernel)",
   "language": "python",
   "name": "python3"
  },
  "language_info": {
   "codemirror_mode": {
    "name": "ipython",
    "version": 3
   },
   "file_extension": ".py",
   "mimetype": "text/x-python",
   "name": "python",
   "nbconvert_exporter": "python",
   "pygments_lexer": "ipython3",
   "version": "3.8.17"
  }
 },
 "nbformat": 4,
 "nbformat_minor": 5
}
