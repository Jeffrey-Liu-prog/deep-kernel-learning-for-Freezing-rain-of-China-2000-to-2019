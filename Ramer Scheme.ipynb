{
 "cells": [
  {
   "cell_type": "code",
   "execution_count": null,
   "id": "ff2dee3f-8ba9-40e5-bf07-dcfd1547cd10",
   "metadata": {},
   "outputs": [],
   "source": [
    "import pandas as pd\n",
    "import numpy as np\n",
    "from sklearn.metrics import roc_auc_score, accuracy_score, recall_score, precision_score"
   ]
  },
  {
   "cell_type": "code",
   "execution_count": null,
   "id": "db3b95c2-6bdd-4938-b174-0df6a712c1c7",
   "metadata": {},
   "outputs": [],
   "source": [
    "# Load the CSV file\n",
    "df = pd.read_csv('data to apply Ramer Scheme')"
   ]
  },
  {
   "cell_type": "code",
   "execution_count": null,
   "id": "191972c4-f185-4110-9506-f84bccad9795",
   "metadata": {},
   "outputs": [],
   "source": [
    "#Ramer Scheme\n",
    "# Constants\n",
    "g = 9.81  # m/s^2\n",
    "cp = 1005  # J/(kg·K)\n",
    "L = 2501000  # J/kg\n",
    "Rd = 287.05  # J/(kg·K)\n",
    "epsilon = 0.622\n",
    "e_prime = 0.045  # Given constant\n",
    "\n",
    "def kelvin_to_celsius(T):\n",
    "    return T - 273.15  # Convert Kelvin to Celsius\n",
    "\n",
    "def calculate_malr(T, q_s):\n",
    "    T_celsius = kelvin_to_celsius(T)  # Convert temperature to Celsius for MALR calculation\n",
    "    return (g * (1 + (L * q_s) / (Rd * T_celsius))) / (cp + (L**2 * q_s * epsilon) / (Rd * T_celsius**2))\n",
    "\n",
    "def calculate_if_and_cloud_top(df):\n",
    "    # Define pressure levels\n",
    "    pressures = [400, 500, 650, 700, 750, 800, 850, 900, 950, 975]\n",
    "    calculation_pressures = pressures[:7]  # Only consider up to 850 hPa for MALR and ELR calculations\n",
    "    \n",
    "    # Iterate through each row to calculate If and determine cloud-top layer\n",
    "    results_if = []\n",
    "    results_cloud_top = []\n",
    "    for index, row in df.iterrows():\n",
    "        # Find cloud-top layer\n",
    "        cloud_top = None\n",
    "        highest_rh = 0  # Variable to store the highest RH found\n",
    "        highest_rh_layer = None  # Layer with the highest RH\n",
    "        first_high_rh_layer = None  # First layer with RH > 90\n",
    "\n",
    "        for i in range(len(calculation_pressures) - 1):\n",
    "            p1, p2 = calculation_pressures[i], calculation_pressures[i+1]\n",
    "            T1, T2 = kelvin_to_celsius(row[f'T{p1}']), kelvin_to_celsius(row[f'T{p2}'])\n",
    "            q_s = row[f'{p1}SH']\n",
    "            MALR = calculate_malr((T1 + T2) / 2, q_s)\n",
    "            ELR = (T2 - T1) / (p2 - p1)\n",
    "            \n",
    "            # Track highest RH across all pressures\n",
    "            if row[f'{p1}RH'] > highest_rh:\n",
    "                highest_rh = row[f'{p1}RH']\n",
    "                highest_rh_layer = p1\n",
    "\n",
    "            # First check for RH > 90 and MALR >= ELR within the calculation range\n",
    "            if row[f'{p1}RH'] > 90 and ELR <= MALR:\n",
    "                cloud_top = p1\n",
    "                break\n",
    "            \n",
    "            # Track the first layer with RH > 90 across all pressures\n",
    "            if row[f'{p1}RH'] > 90 and first_high_rh_layer is None:\n",
    "                first_high_rh_layer = p1\n",
    "\n",
    "        # Second check if no cloud-top found with first criteria\n",
    "        if cloud_top is None:\n",
    "            cloud_top = first_high_rh_layer\n",
    "\n",
    "        # Third check if no suitable layer found\n",
    "        cloud_top = cloud_top if cloud_top is not None else highest_rh_layer\n",
    "        results_cloud_top.append(cloud_top)\n",
    "        \n",
    "        # Calculate If from the cloud-top layer to 975 hPa\n",
    "        if_value = 0\n",
    "        if cloud_top:\n",
    "            cloud_top_index = pressures.index(cloud_top)\n",
    "            for i in range(cloud_top_index, len(pressures) - 1):\n",
    "                p1 = pressures[i]\n",
    "                p2 = pressures[i + 1]\n",
    "                # Calculate dI\n",
    "                dp = np.log(p1) - np.log(p2)\n",
    "                dI = (0 - kelvin_to_celsius(row[f'{p1}WbT'])) * dp / (e_prime * row[f'{p1}RH'])\n",
    "                if_value += dI\n",
    "        \n",
    "        results_if.append(if_value)\n",
    "    \n",
    "    return results_if, results_cloud_top"
   ]
  },
  {
   "cell_type": "code",
   "execution_count": null,
   "id": "74be4a67-4103-4046-87c9-cd2fbc84da78",
   "metadata": {},
   "outputs": [],
   "source": [
    "# Calculate If and cloud-top and add them to the DataFrame\n",
    "df['If'], df['Cloud_Top'] = calculate_if_and_cloud_top(df)"
   ]
  },
  {
   "cell_type": "code",
   "execution_count": null,
   "id": "6a82cfb9-d75d-4ed7-a442-b4ea12d58259",
   "metadata": {},
   "outputs": [],
   "source": [
    "# Apply Ramer Scheme conditions\n",
    "def apply_ramer_scheme(row):\n",
    "    cloud_top_wbt = kelvin_to_celsius(row[f'{int(row[\"Cloud_Top\"])}WbT'])\n",
    "    surface_wbt = kelvin_to_celsius(row['WbT'])\n",
    "    wbt_975 = kelvin_to_celsius(row['975WbT'])\n",
    "    if (cloud_top_wbt > -6.6 or wbt_975 > 0) and (-6.6 <= surface_wbt < 0) and row['If'] < 0.85:\n",
    "        return 1\n",
    "    return 0\n",
    "\n",
    "\n",
    "df['Ramer'] = df.apply(apply_ramer_scheme, axis=1)"
   ]
  },
  {
   "cell_type": "code",
   "execution_count": null,
   "id": "abefccb5-fd4a-4cc1-9ea9-1d6141d2bfc6",
   "metadata": {},
   "outputs": [],
   "source": [
    "#metrics for Ramer Scheme\n",
    "df['FR'] = df['FR'].astype(int)\n",
    "df['Ramer'] = df['Ramer'].astype(int)\n",
    "\n",
    "# Calculate AUC\n",
    "auc = roc_auc_score(df['FR'], df['Ramer'])\n",
    "print(f\"AUC: {auc}\")\n",
    "\n",
    "# Calculate Accuracy\n",
    "accuracy = accuracy_score(df['FR'], df['Ramer'])\n",
    "print(f\"Accuracy: {accuracy}\")\n",
    "\n",
    "# Calculate Recall\n",
    "recall = recall_score(df['FR'], df['Ramer'])\n",
    "print(f\"Recall: {recall}\")\n",
    "\n",
    "# Calculate Precision\n",
    "precision = precision_score(df['FR'], df['Ramer'])\n",
    "print(f\"Precision: {precision}\")"
   ]
  },
  {
   "cell_type": "code",
   "execution_count": null,
   "id": "7ed6a6e8-9b95-4a18-81cd-9b264533e179",
   "metadata": {},
   "outputs": [],
   "source": [
    "#Save the results\n",
    "df.to_csv('path to save Ramer Scheme', index=False)"
   ]
  }
 ],
 "metadata": {
  "kernelspec": {
   "display_name": "Python 3 (ipykernel)",
   "language": "python",
   "name": "python3"
  },
  "language_info": {
   "codemirror_mode": {
    "name": "ipython",
    "version": 3
   },
   "file_extension": ".py",
   "mimetype": "text/x-python",
   "name": "python",
   "nbconvert_exporter": "python",
   "pygments_lexer": "ipython3",
   "version": "3.8.17"
  }
 },
 "nbformat": 4,
 "nbformat_minor": 5
}
